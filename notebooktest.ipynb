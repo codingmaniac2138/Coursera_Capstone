{
    "cells": [
        {
            "metadata": {
                "id": "TKc70lGav_zY",
                "colab_type": "text"
            },
            "cell_type": "markdown",
            "source": "# Capstone Project \u2014 Best locality to open a new restaurants in Pune City"
        },
        {
            "metadata": {
                "id": "dlJiXemYv_zc",
                "colab_type": "text"
            },
            "cell_type": "markdown",
            "source": "### Introduction\n\nPune city is considered to be the cultural capital of Maharashtra in India. Tt is also known as the \"Oxford of the East\" due to the presence of several well-known educational institutions. Also, Restaurants from all over the world can be found here in Pune. Pune is home to numerous long-standing bakeries and regional restaurants, quiet and unassuming Pune loves its food. While the city's burgeoning dining scene now has both global restaurant chains, as well as trendy eateries, each of these age-old eating joints, have stood the test of time because of their unique local flavour and atmosphere.\nThere are many restaurants in Pune City, each belonging to different categories like Chinese , Italian , French etc. So as part of this project ,I will list and visualise all major parts of Pune City with the kind of restaurants in those regions.\n\nThis project will help to understand the best location in Pune to open a restaurant, to understand that i will find the top rated and best restaurants in Pune, also in its neighbourhood. I will try to show the localities which has maximum number of restaurants, top voted and top rated restaurants, also restaurants famous for Chinese cuisine, which will help to understand which will be the right place to open a new restaurant.\n"
        },
        {
            "metadata": {
                "id": "CsGNuYelv_zd",
                "colab_type": "text"
            },
            "cell_type": "markdown",
            "source": " ### We need to find answers to the questions below using the mentioned datasets in DATA section, It will help to find the right place to open a new restaurant\n- What is best location in Pune City for Chinese Cuisine ? \n- Which areas have large number of Chinese Resturant Market ? \n- Which all areas have less number of resturant ? \n- Which is the top voted Restaurants and locality in Pune? \n- Which is the less voted Restaurants and locality in Pune? \n- Which is the best place to stay if I prefer Chinese Cuisine ? \n- Which places have best restaurant in Pune? "
        },
        {
            "metadata": {
                "id": "QD48llT0v_ze",
                "colab_type": "text"
            },
            "cell_type": "markdown",
            "source": "### Data\nFor this project we need the following data :\n<ul>\n<li> Pune Resturants data that contains list Locality, Resturant name,Rating along with their latitude and longitude.\n    <ul>\n        <li>Data source :<a\n                           href=\"https://www.kaggle.com/sagara9595/zomato-pune\" >Zomato kaggel dataset</a>, The data source has been downloaded and uploaded to my git account from where i will be reading for my project needs. \n        \nThe data source provides following details about the restaurants which will help to create maps using folium also will help understanidng best locations with best restaurants in pune:\n            \n['res_id', 'Restaurant Name', 'establishment', 'url', 'address', 'city',\n       'city_id', 'Locality', 'Latitude', 'Longitude', 'zipcode', 'country_id',\n       'locality_verbose', 'Cuisines', 'timings', 'average_cost_for_two',\n       'price_range', 'currency', 'highlights', 'Aggregate rating',\n       'Rating text', 'Votes', 'photo_count', 'opentable_support', 'delivery',\n       'takeaway']\n\n            \n<li> Description : <a href=\"https://raw.githubusercontent.com/codingmaniac2138/Coursera_Capstone/master/pune_zomato_restaurants.csv\">This data set contains the required information</a>. And we will use this data set to explore various locality of Pune city.\n     </ul><br>\n\n<li> Nearby places in each locality of pune city.\n    <ul>\n        <li>Data source : <a href=\"https://developer.foursquare.com/\"> Fousquare API </a>\n        <li> Description : By using this api we will get all the venues in each neighborhood. \n    "
        },
        {
            "metadata": {
                "id": "_ljEzrghv_zf",
                "colab_type": "text"
            },
            "cell_type": "markdown",
            "source": "### Approach\n- Collect the Pune city data from Pune Zomato kaggel dataset \n- Filter out all venues that are nearby by locality. \n- Using aggregative rating for each resturant to find the best places. \n- Using votes find top rated retaurants in the city. \n- Using FourSquare API we will find all venues for each neighborhood. \n- Visualize the Ranking of neighborhoods using folium library(python) "
        }
    ],
    "metadata": {
        "kernelspec": {
            "name": "python3",
            "display_name": "Python 3.7",
            "language": "python"
        },
        "colab": {
            "name": "Capstone Project \u2014 The Battle of Neighbourhoods.ipynb",
            "provenance": []
        },
        "language_info": {
            "name": "python",
            "version": "3.7.10",
            "mimetype": "text/x-python",
            "codemirror_mode": {
                "name": "ipython",
                "version": 3
            },
            "pygments_lexer": "ipython3",
            "nbconvert_exporter": "python",
            "file_extension": ".py"
        }
    },
    "nbformat": 4,
    "nbformat_minor": 1
}